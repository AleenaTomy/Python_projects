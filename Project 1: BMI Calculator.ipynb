{
 "cells": [
  {
   "cell_type": "markdown",
   "id": "51783baf",
   "metadata": {},
   "source": [
    "# BMI Calculator"
   ]
  },
  {
   "cell_type": "code",
   "execution_count": 13,
   "id": "f0b19827",
   "metadata": {},
   "outputs": [
    {
     "name": "stdout",
     "output_type": "stream",
     "text": [
      "Enter your name: Aleena Tomy\n",
      "Enter your weight in kg: 51\n",
      "Enter your height in cm: 160\n",
      "19.921875\n",
      "Aleena Tomy, You are normal weight.\n"
     ]
    }
   ],
   "source": [
    "name = input(\"Enter your name: \")\n",
    "\n",
    "weight = int(input(\"Enter your weight in kg: \"))\n",
    "\n",
    "height = int(input(\"Enter your height in cm: \"))\n",
    "\n",
    "BMI = ((weight / height) / height) * 10000\n",
    "\n",
    "#BMI = (weight * 703) / (height * height) #(formula for weight and height in pound and inches respectievly)\n",
    "\n",
    "print(BMI)\n",
    "\n",
    "if BMI > 0:\n",
    "    if(BMI<18.5):\n",
    "        print(name + \", You are Under weight.\")\n",
    "    elif (BMI <=24.9):\n",
    "        print(name + \", You are normal weight.\")\n",
    "    elif (BMI <=29.9):\n",
    "        print(name + \", You are overweight.\")\n",
    "    elif (BMI <=34.9):\n",
    "        print(name + \", You are obese.\")\n",
    "    elif (BMI <=39.9):\n",
    "        print(name + \", You are severely obese.\")\n",
    "    elif (BMI>=40):\n",
    "        print(name + \", You are Morbidly obese.\")\n",
    "    else:\n",
    "        print(\"Enter a valid input.\")\n"
   ]
  },
  {
   "cell_type": "code",
   "execution_count": 1,
   "id": "5774c7f4",
   "metadata": {},
   "outputs": [
    {
     "data": {
      "text/plain": [
       "'Under 18.5\\tUnderweight\\tMinimal\\n18.5 - 24.9\\tNormal Weight\\tMinimal\\n25 - 29.9\\tOverweight\\tIncreased\\n30 - 34.9\\tObese\\tHigh\\n35 - 39.9\\tSeverely Obese\\tVery High\\n40 and over\\tMorbidly Obese\\tExtremely High'"
      ]
     },
     "execution_count": 1,
     "metadata": {},
     "output_type": "execute_result"
    }
   ],
   "source": [
    "'''Under 18.5\tUnderweight\tMinimal\n",
    "18.5 - 24.9\tNormal Weight\tMinimal\n",
    "25 - 29.9\tOverweight\tIncreased\n",
    "30 - 34.9\tObese\tHigh\n",
    "35 - 39.9\tSeverely Obese\tVery High\n",
    "40 and over\tMorbidly Obese\tExtremely High'''"
   ]
  },
  {
   "cell_type": "code",
   "execution_count": null,
   "id": "c0964276",
   "metadata": {},
   "outputs": [],
   "source": []
  },
  {
   "cell_type": "code",
   "execution_count": null,
   "id": "e18018e6",
   "metadata": {},
   "outputs": [],
   "source": []
  }
 ],
 "metadata": {
  "kernelspec": {
   "display_name": "Python 3 (ipykernel)",
   "language": "python",
   "name": "python3"
  },
  "language_info": {
   "codemirror_mode": {
    "name": "ipython",
    "version": 3
   },
   "file_extension": ".py",
   "mimetype": "text/x-python",
   "name": "python",
   "nbconvert_exporter": "python",
   "pygments_lexer": "ipython3",
   "version": "3.9.13"
  }
 },
 "nbformat": 4,
 "nbformat_minor": 5
}
