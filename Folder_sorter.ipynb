{
 "cells": [
  {
   "cell_type": "markdown",
   "id": "92a73f00",
   "metadata": {},
   "source": [
    "# Folder_Sorter"
   ]
  },
  {
   "cell_type": "code",
   "execution_count": 36,
   "id": "25d63f80",
   "metadata": {},
   "outputs": [],
   "source": [
    "import os, shutil"
   ]
  },
  {
   "cell_type": "code",
   "execution_count": 37,
   "id": "37e286e6",
   "metadata": {},
   "outputs": [],
   "source": [
    "path= r\"D:/LEARNING/Data_analytics_Bootcamp/Python/Python_file_sorter/\""
   ]
  },
  {
   "cell_type": "code",
   "execution_count": 38,
   "id": "98605a9f",
   "metadata": {},
   "outputs": [
    {
     "data": {
      "text/plain": [
       "['black_background.png',\n",
       " 'Excel Charts Tutorial File.xlsx',\n",
       " 'insta_accounts.txt',\n",
       " 'white_background.jpg']"
      ]
     },
     "execution_count": 38,
     "metadata": {},
     "output_type": "execute_result"
    }
   ],
   "source": [
    "os.listdir(path)\n",
    "# Give all the items exist in the given path"
   ]
  },
  {
   "cell_type": "code",
   "execution_count": 39,
   "id": "77c944e5",
   "metadata": {},
   "outputs": [],
   "source": [
    "file_name = os.listdir(path)"
   ]
  },
  {
   "cell_type": "code",
   "execution_count": 44,
   "id": "7fd18517",
   "metadata": {},
   "outputs": [],
   "source": [
    "folder_names=['xlsx files', 'image files', 'text files']\n",
    "\n",
    "for i in range(0,3):\n",
    "    if not os.path.exists(path + folder_names[i]):\n",
    "        print(path + folder_names[i])\n",
    "        os.makedirs(path + folder_names[i])\n",
    "# Loop through the range and check if the folder name already exist, if not it'll create one.\n",
    "        \n",
    "for file in file_name:\n",
    "    if \".png\" in file and not os.path.exists(path + \"image files/\" + file):\n",
    "        shutil.move(path + file, path + \"image files/\" + file)\n",
    "    elif \".jpg\" in file and not os.path.exists(path + \"image files/\" + file):\n",
    "        shutil.move(path + file, path + \"image files/\" + file)\n",
    "    elif \".xlsx\" in file and not os.path.exists(path + \"xlsx files/\" + file):\n",
    "        shutil.move(path + file, path + \"xlsx files/\" + file)\n",
    "    elif \".txt\" in file and not os.path.exists(path + \"text files/\" + file):\n",
    "        shutil.move(path + file, path + \"text files/\" + file)\n",
    "        \n",
    "# Using if, elif statement add the items to the folders respectively"
   ]
  },
  {
   "cell_type": "code",
   "execution_count": null,
   "id": "4e732d75",
   "metadata": {},
   "outputs": [],
   "source": []
  }
 ],
 "metadata": {
  "kernelspec": {
   "display_name": "Python 3 (ipykernel)",
   "language": "python",
   "name": "python3"
  },
  "language_info": {
   "codemirror_mode": {
    "name": "ipython",
    "version": 3
   },
   "file_extension": ".py",
   "mimetype": "text/x-python",
   "name": "python",
   "nbconvert_exporter": "python",
   "pygments_lexer": "ipython3",
   "version": "3.9.13"
  }
 },
 "nbformat": 4,
 "nbformat_minor": 5
}
